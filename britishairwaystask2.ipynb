{
  "nbformat": 4,
  "nbformat_minor": 0,
  "metadata": {
    "colab": {
      "provenance": [],
      "authorship_tag": "ABX9TyONQuRoRE0hzjtb4Wsiba1E"
    },
    "kernelspec": {
      "name": "python3",
      "display_name": "Python 3"
    },
    "language_info": {
      "name": "python"
    }
  },
  "cells": [
    {
      "cell_type": "code",
      "source": [
        "\n",
        "%matplotlib inline\n",
        "\n",
        "import pandas as pd\n",
        "import numpy as np\n",
        "import matplotlib.pyplot as plt\n",
        "import seaborn as sns\n",
        "\n",
        "import warnings\n",
        "warnings.filterwarnings(\"ignore\")"
      ],
      "metadata": {
        "id": "uUgQZBGBAJ-i"
      },
      "execution_count": 1,
      "outputs": []
    },
    {
      "cell_type": "code",
      "execution_count": 2,
      "metadata": {
        "colab": {
          "base_uri": "https://localhost:8080/"
        },
        "id": "DQ5tt9yA-2r3",
        "outputId": "c150fd36-0bed-4b1f-88e0-a300ba25e102"
      },
      "outputs": [
        {
          "output_type": "stream",
          "name": "stdout",
          "text": [
            "       num_passengers sales_channel  trip_type  purchase_lead  length_of_stay  \\\n",
            "0                   2      Internet  RoundTrip            262              19   \n",
            "1                   1      Internet  RoundTrip            112              20   \n",
            "2                   2      Internet  RoundTrip            243              22   \n",
            "3                   1      Internet  RoundTrip             96              31   \n",
            "4                   2      Internet  RoundTrip             68              22   \n",
            "...               ...           ...        ...            ...             ...   \n",
            "49995               2      Internet  RoundTrip             27               6   \n",
            "49996               1      Internet  RoundTrip            111               6   \n",
            "49997               1      Internet  RoundTrip             24               6   \n",
            "49998               1      Internet  RoundTrip             15               6   \n",
            "49999               1      Internet  RoundTrip             19               6   \n",
            "\n",
            "       flight_hour flight_day   route booking_origin  wants_extra_baggage  \\\n",
            "0                7        Sat  AKLDEL    New Zealand                    1   \n",
            "1                3        Sat  AKLDEL    New Zealand                    0   \n",
            "2               17        Wed  AKLDEL          India                    1   \n",
            "3                4        Sat  AKLDEL    New Zealand                    0   \n",
            "4               15        Wed  AKLDEL          India                    1   \n",
            "...            ...        ...     ...            ...                  ...   \n",
            "49995            9        Sat  PERPNH      Australia                    1   \n",
            "49996            4        Sun  PERPNH      Australia                    0   \n",
            "49997           22        Sat  PERPNH      Australia                    0   \n",
            "49998           11        Mon  PERPNH      Australia                    1   \n",
            "49999           10        Thu  PERPNH      Australia                    0   \n",
            "\n",
            "       wants_preferred_seat  wants_in_flight_meals  flight_duration  \\\n",
            "0                         0                      0             5.52   \n",
            "1                         0                      0             5.52   \n",
            "2                         1                      0             5.52   \n",
            "3                         0                      1             5.52   \n",
            "4                         0                      1             5.52   \n",
            "...                     ...                    ...              ...   \n",
            "49995                     0                      1             5.62   \n",
            "49996                     0                      0             5.62   \n",
            "49997                     0                      1             5.62   \n",
            "49998                     0                      1             5.62   \n",
            "49999                     1                      0             5.62   \n",
            "\n",
            "       booking_complete  \n",
            "0                     0  \n",
            "1                     0  \n",
            "2                     0  \n",
            "3                     0  \n",
            "4                     0  \n",
            "...                 ...  \n",
            "49995                 0  \n",
            "49996                 0  \n",
            "49997                 0  \n",
            "49998                 0  \n",
            "49999                 0  \n",
            "\n",
            "[50000 rows x 14 columns]\n"
          ]
        }
      ],
      "source": [
        "import pandas as pd\n",
        "url=\"https://cdn.theforage.com/vinternships/companyassets/tMjbs76F526fF5v3G/L3MQ8f6cYSkfoukmz/1667814300249/customer_booking.csv\"\n",
        "df = pd.read_csv(url, encoding='ISO-8859-1')\n",
        "\n",
        "print(df)"
      ]
    },
    {
      "cell_type": "code",
      "source": [
        "#checking for datatypes\n",
        "\n",
        "df.dtypes"
      ],
      "metadata": {
        "colab": {
          "base_uri": "https://localhost:8080/",
          "height": 508
        },
        "id": "cSozZ2IF_XNi",
        "outputId": "f73336da-5cd7-427e-8edb-00aec161bfbd"
      },
      "execution_count": 3,
      "outputs": [
        {
          "output_type": "execute_result",
          "data": {
            "text/plain": [
              "num_passengers             int64\n",
              "sales_channel             object\n",
              "trip_type                 object\n",
              "purchase_lead              int64\n",
              "length_of_stay             int64\n",
              "flight_hour                int64\n",
              "flight_day                object\n",
              "route                     object\n",
              "booking_origin            object\n",
              "wants_extra_baggage        int64\n",
              "wants_preferred_seat       int64\n",
              "wants_in_flight_meals      int64\n",
              "flight_duration          float64\n",
              "booking_complete           int64\n",
              "dtype: object"
            ],
            "text/html": [
              "<div>\n",
              "<style scoped>\n",
              "    .dataframe tbody tr th:only-of-type {\n",
              "        vertical-align: middle;\n",
              "    }\n",
              "\n",
              "    .dataframe tbody tr th {\n",
              "        vertical-align: top;\n",
              "    }\n",
              "\n",
              "    .dataframe thead th {\n",
              "        text-align: right;\n",
              "    }\n",
              "</style>\n",
              "<table border=\"1\" class=\"dataframe\">\n",
              "  <thead>\n",
              "    <tr style=\"text-align: right;\">\n",
              "      <th></th>\n",
              "      <th>0</th>\n",
              "    </tr>\n",
              "  </thead>\n",
              "  <tbody>\n",
              "    <tr>\n",
              "      <th>num_passengers</th>\n",
              "      <td>int64</td>\n",
              "    </tr>\n",
              "    <tr>\n",
              "      <th>sales_channel</th>\n",
              "      <td>object</td>\n",
              "    </tr>\n",
              "    <tr>\n",
              "      <th>trip_type</th>\n",
              "      <td>object</td>\n",
              "    </tr>\n",
              "    <tr>\n",
              "      <th>purchase_lead</th>\n",
              "      <td>int64</td>\n",
              "    </tr>\n",
              "    <tr>\n",
              "      <th>length_of_stay</th>\n",
              "      <td>int64</td>\n",
              "    </tr>\n",
              "    <tr>\n",
              "      <th>flight_hour</th>\n",
              "      <td>int64</td>\n",
              "    </tr>\n",
              "    <tr>\n",
              "      <th>flight_day</th>\n",
              "      <td>object</td>\n",
              "    </tr>\n",
              "    <tr>\n",
              "      <th>route</th>\n",
              "      <td>object</td>\n",
              "    </tr>\n",
              "    <tr>\n",
              "      <th>booking_origin</th>\n",
              "      <td>object</td>\n",
              "    </tr>\n",
              "    <tr>\n",
              "      <th>wants_extra_baggage</th>\n",
              "      <td>int64</td>\n",
              "    </tr>\n",
              "    <tr>\n",
              "      <th>wants_preferred_seat</th>\n",
              "      <td>int64</td>\n",
              "    </tr>\n",
              "    <tr>\n",
              "      <th>wants_in_flight_meals</th>\n",
              "      <td>int64</td>\n",
              "    </tr>\n",
              "    <tr>\n",
              "      <th>flight_duration</th>\n",
              "      <td>float64</td>\n",
              "    </tr>\n",
              "    <tr>\n",
              "      <th>booking_complete</th>\n",
              "      <td>int64</td>\n",
              "    </tr>\n",
              "  </tbody>\n",
              "</table>\n",
              "</div><br><label><b>dtype:</b> object</label>"
            ]
          },
          "metadata": {},
          "execution_count": 3
        }
      ]
    },
    {
      "cell_type": "code",
      "source": [
        "df.shape"
      ],
      "metadata": {
        "colab": {
          "base_uri": "https://localhost:8080/"
        },
        "id": "_bVioVmcAWAh",
        "outputId": "e585e4cb-1285-499e-b853-8e356c843f12"
      },
      "execution_count": 4,
      "outputs": [
        {
          "output_type": "execute_result",
          "data": {
            "text/plain": [
              "(50000, 14)"
            ]
          },
          "metadata": {},
          "execution_count": 4
        }
      ]
    },
    {
      "cell_type": "code",
      "source": [
        "\n",
        "#null values\n",
        "\n",
        "df.isnull().sum()"
      ],
      "metadata": {
        "colab": {
          "base_uri": "https://localhost:8080/",
          "height": 508
        },
        "id": "6E5DJPXHAYYT",
        "outputId": "3bd4c656-fe40-4c82-960a-31979c924f8d"
      },
      "execution_count": 5,
      "outputs": [
        {
          "output_type": "execute_result",
          "data": {
            "text/plain": [
              "num_passengers           0\n",
              "sales_channel            0\n",
              "trip_type                0\n",
              "purchase_lead            0\n",
              "length_of_stay           0\n",
              "flight_hour              0\n",
              "flight_day               0\n",
              "route                    0\n",
              "booking_origin           0\n",
              "wants_extra_baggage      0\n",
              "wants_preferred_seat     0\n",
              "wants_in_flight_meals    0\n",
              "flight_duration          0\n",
              "booking_complete         0\n",
              "dtype: int64"
            ],
            "text/html": [
              "<div>\n",
              "<style scoped>\n",
              "    .dataframe tbody tr th:only-of-type {\n",
              "        vertical-align: middle;\n",
              "    }\n",
              "\n",
              "    .dataframe tbody tr th {\n",
              "        vertical-align: top;\n",
              "    }\n",
              "\n",
              "    .dataframe thead th {\n",
              "        text-align: right;\n",
              "    }\n",
              "</style>\n",
              "<table border=\"1\" class=\"dataframe\">\n",
              "  <thead>\n",
              "    <tr style=\"text-align: right;\">\n",
              "      <th></th>\n",
              "      <th>0</th>\n",
              "    </tr>\n",
              "  </thead>\n",
              "  <tbody>\n",
              "    <tr>\n",
              "      <th>num_passengers</th>\n",
              "      <td>0</td>\n",
              "    </tr>\n",
              "    <tr>\n",
              "      <th>sales_channel</th>\n",
              "      <td>0</td>\n",
              "    </tr>\n",
              "    <tr>\n",
              "      <th>trip_type</th>\n",
              "      <td>0</td>\n",
              "    </tr>\n",
              "    <tr>\n",
              "      <th>purchase_lead</th>\n",
              "      <td>0</td>\n",
              "    </tr>\n",
              "    <tr>\n",
              "      <th>length_of_stay</th>\n",
              "      <td>0</td>\n",
              "    </tr>\n",
              "    <tr>\n",
              "      <th>flight_hour</th>\n",
              "      <td>0</td>\n",
              "    </tr>\n",
              "    <tr>\n",
              "      <th>flight_day</th>\n",
              "      <td>0</td>\n",
              "    </tr>\n",
              "    <tr>\n",
              "      <th>route</th>\n",
              "      <td>0</td>\n",
              "    </tr>\n",
              "    <tr>\n",
              "      <th>booking_origin</th>\n",
              "      <td>0</td>\n",
              "    </tr>\n",
              "    <tr>\n",
              "      <th>wants_extra_baggage</th>\n",
              "      <td>0</td>\n",
              "    </tr>\n",
              "    <tr>\n",
              "      <th>wants_preferred_seat</th>\n",
              "      <td>0</td>\n",
              "    </tr>\n",
              "    <tr>\n",
              "      <th>wants_in_flight_meals</th>\n",
              "      <td>0</td>\n",
              "    </tr>\n",
              "    <tr>\n",
              "      <th>flight_duration</th>\n",
              "      <td>0</td>\n",
              "    </tr>\n",
              "    <tr>\n",
              "      <th>booking_complete</th>\n",
              "      <td>0</td>\n",
              "    </tr>\n",
              "  </tbody>\n",
              "</table>\n",
              "</div><br><label><b>dtype:</b> int64</label>"
            ]
          },
          "metadata": {},
          "execution_count": 5
        }
      ]
    },
    {
      "cell_type": "code",
      "source": [
        "df.booking_complete.value_counts()\n"
      ],
      "metadata": {
        "colab": {
          "base_uri": "https://localhost:8080/",
          "height": 172
        },
        "id": "62-BObH_Act2",
        "outputId": "b38fb825-5e3d-4507-d342-d65d5c66d304"
      },
      "execution_count": 6,
      "outputs": [
        {
          "output_type": "execute_result",
          "data": {
            "text/plain": [
              "booking_complete\n",
              "0    42522\n",
              "1     7478\n",
              "Name: count, dtype: int64"
            ],
            "text/html": [
              "<div>\n",
              "<style scoped>\n",
              "    .dataframe tbody tr th:only-of-type {\n",
              "        vertical-align: middle;\n",
              "    }\n",
              "\n",
              "    .dataframe tbody tr th {\n",
              "        vertical-align: top;\n",
              "    }\n",
              "\n",
              "    .dataframe thead th {\n",
              "        text-align: right;\n",
              "    }\n",
              "</style>\n",
              "<table border=\"1\" class=\"dataframe\">\n",
              "  <thead>\n",
              "    <tr style=\"text-align: right;\">\n",
              "      <th></th>\n",
              "      <th>count</th>\n",
              "    </tr>\n",
              "    <tr>\n",
              "      <th>booking_complete</th>\n",
              "      <th></th>\n",
              "    </tr>\n",
              "  </thead>\n",
              "  <tbody>\n",
              "    <tr>\n",
              "      <th>0</th>\n",
              "      <td>42522</td>\n",
              "    </tr>\n",
              "    <tr>\n",
              "      <th>1</th>\n",
              "      <td>7478</td>\n",
              "    </tr>\n",
              "  </tbody>\n",
              "</table>\n",
              "</div><br><label><b>dtype:</b> int64</label>"
            ]
          },
          "metadata": {},
          "execution_count": 6
        }
      ]
    },
    {
      "cell_type": "code",
      "source": [
        "X= df.drop('booking_complete',axis=1)\n",
        "y= df.booking_complete\n",
        "\n",
        "#changing object dtype to int dtype\n",
        "for colname in X.select_dtypes(\"object\"):\n",
        "    X[colname], _ = X[colname].factorize()"
      ],
      "metadata": {
        "id": "c12PW20SAe7a"
      },
      "execution_count": 7,
      "outputs": []
    },
    {
      "cell_type": "code",
      "source": [
        "X.dtypes"
      ],
      "metadata": {
        "colab": {
          "base_uri": "https://localhost:8080/",
          "height": 477
        },
        "id": "gCOc8UmIAjgn",
        "outputId": "166504ae-9ee5-4722-d9c1-df787306586f"
      },
      "execution_count": 8,
      "outputs": [
        {
          "output_type": "execute_result",
          "data": {
            "text/plain": [
              "num_passengers             int64\n",
              "sales_channel              int64\n",
              "trip_type                  int64\n",
              "purchase_lead              int64\n",
              "length_of_stay             int64\n",
              "flight_hour                int64\n",
              "flight_day                 int64\n",
              "route                      int64\n",
              "booking_origin             int64\n",
              "wants_extra_baggage        int64\n",
              "wants_preferred_seat       int64\n",
              "wants_in_flight_meals      int64\n",
              "flight_duration          float64\n",
              "dtype: object"
            ],
            "text/html": [
              "<div>\n",
              "<style scoped>\n",
              "    .dataframe tbody tr th:only-of-type {\n",
              "        vertical-align: middle;\n",
              "    }\n",
              "\n",
              "    .dataframe tbody tr th {\n",
              "        vertical-align: top;\n",
              "    }\n",
              "\n",
              "    .dataframe thead th {\n",
              "        text-align: right;\n",
              "    }\n",
              "</style>\n",
              "<table border=\"1\" class=\"dataframe\">\n",
              "  <thead>\n",
              "    <tr style=\"text-align: right;\">\n",
              "      <th></th>\n",
              "      <th>0</th>\n",
              "    </tr>\n",
              "  </thead>\n",
              "  <tbody>\n",
              "    <tr>\n",
              "      <th>num_passengers</th>\n",
              "      <td>int64</td>\n",
              "    </tr>\n",
              "    <tr>\n",
              "      <th>sales_channel</th>\n",
              "      <td>int64</td>\n",
              "    </tr>\n",
              "    <tr>\n",
              "      <th>trip_type</th>\n",
              "      <td>int64</td>\n",
              "    </tr>\n",
              "    <tr>\n",
              "      <th>purchase_lead</th>\n",
              "      <td>int64</td>\n",
              "    </tr>\n",
              "    <tr>\n",
              "      <th>length_of_stay</th>\n",
              "      <td>int64</td>\n",
              "    </tr>\n",
              "    <tr>\n",
              "      <th>flight_hour</th>\n",
              "      <td>int64</td>\n",
              "    </tr>\n",
              "    <tr>\n",
              "      <th>flight_day</th>\n",
              "      <td>int64</td>\n",
              "    </tr>\n",
              "    <tr>\n",
              "      <th>route</th>\n",
              "      <td>int64</td>\n",
              "    </tr>\n",
              "    <tr>\n",
              "      <th>booking_origin</th>\n",
              "      <td>int64</td>\n",
              "    </tr>\n",
              "    <tr>\n",
              "      <th>wants_extra_baggage</th>\n",
              "      <td>int64</td>\n",
              "    </tr>\n",
              "    <tr>\n",
              "      <th>wants_preferred_seat</th>\n",
              "      <td>int64</td>\n",
              "    </tr>\n",
              "    <tr>\n",
              "      <th>wants_in_flight_meals</th>\n",
              "      <td>int64</td>\n",
              "    </tr>\n",
              "    <tr>\n",
              "      <th>flight_duration</th>\n",
              "      <td>float64</td>\n",
              "    </tr>\n",
              "  </tbody>\n",
              "</table>\n",
              "</div><br><label><b>dtype:</b> object</label>"
            ]
          },
          "metadata": {},
          "execution_count": 8
        }
      ]
    },
    {
      "cell_type": "code",
      "source": [
        "from sklearn.feature_selection import mutual_info_classif\n",
        "\n",
        "mi_scores = mutual_info_classif(X, y)\n",
        "mi_scores = pd.Series(mi_scores, name=\"MI Scores\", index=X.columns)\n",
        "mi_scores = mi_scores.sort_values(ascending=False)\n",
        "\n",
        "mi_scores # show a few features with their MI scores"
      ],
      "metadata": {
        "colab": {
          "base_uri": "https://localhost:8080/",
          "height": 477
        },
        "id": "qPh_6uhmAllt",
        "outputId": "39053dc4-20cc-49ce-f1bf-7258d3bf1225"
      },
      "execution_count": 9,
      "outputs": [
        {
          "output_type": "execute_result",
          "data": {
            "text/plain": [
              "route                    0.052878\n",
              "booking_origin           0.048971\n",
              "flight_duration          0.017766\n",
              "wants_extra_baggage      0.013008\n",
              "length_of_stay           0.006728\n",
              "wants_in_flight_meals    0.006190\n",
              "num_passengers           0.005087\n",
              "wants_preferred_seat     0.002992\n",
              "purchase_lead            0.002601\n",
              "flight_hour              0.001816\n",
              "trip_type                0.001348\n",
              "flight_day               0.000821\n",
              "sales_channel            0.000552\n",
              "Name: MI Scores, dtype: float64"
            ],
            "text/html": [
              "<div>\n",
              "<style scoped>\n",
              "    .dataframe tbody tr th:only-of-type {\n",
              "        vertical-align: middle;\n",
              "    }\n",
              "\n",
              "    .dataframe tbody tr th {\n",
              "        vertical-align: top;\n",
              "    }\n",
              "\n",
              "    .dataframe thead th {\n",
              "        text-align: right;\n",
              "    }\n",
              "</style>\n",
              "<table border=\"1\" class=\"dataframe\">\n",
              "  <thead>\n",
              "    <tr style=\"text-align: right;\">\n",
              "      <th></th>\n",
              "      <th>MI Scores</th>\n",
              "    </tr>\n",
              "  </thead>\n",
              "  <tbody>\n",
              "    <tr>\n",
              "      <th>route</th>\n",
              "      <td>0.052878</td>\n",
              "    </tr>\n",
              "    <tr>\n",
              "      <th>booking_origin</th>\n",
              "      <td>0.048971</td>\n",
              "    </tr>\n",
              "    <tr>\n",
              "      <th>flight_duration</th>\n",
              "      <td>0.017766</td>\n",
              "    </tr>\n",
              "    <tr>\n",
              "      <th>wants_extra_baggage</th>\n",
              "      <td>0.013008</td>\n",
              "    </tr>\n",
              "    <tr>\n",
              "      <th>length_of_stay</th>\n",
              "      <td>0.006728</td>\n",
              "    </tr>\n",
              "    <tr>\n",
              "      <th>wants_in_flight_meals</th>\n",
              "      <td>0.006190</td>\n",
              "    </tr>\n",
              "    <tr>\n",
              "      <th>num_passengers</th>\n",
              "      <td>0.005087</td>\n",
              "    </tr>\n",
              "    <tr>\n",
              "      <th>wants_preferred_seat</th>\n",
              "      <td>0.002992</td>\n",
              "    </tr>\n",
              "    <tr>\n",
              "      <th>purchase_lead</th>\n",
              "      <td>0.002601</td>\n",
              "    </tr>\n",
              "    <tr>\n",
              "      <th>flight_hour</th>\n",
              "      <td>0.001816</td>\n",
              "    </tr>\n",
              "    <tr>\n",
              "      <th>trip_type</th>\n",
              "      <td>0.001348</td>\n",
              "    </tr>\n",
              "    <tr>\n",
              "      <th>flight_day</th>\n",
              "      <td>0.000821</td>\n",
              "    </tr>\n",
              "    <tr>\n",
              "      <th>sales_channel</th>\n",
              "      <td>0.000552</td>\n",
              "    </tr>\n",
              "  </tbody>\n",
              "</table>\n",
              "</div><br><label><b>dtype:</b> float64</label>"
            ]
          },
          "metadata": {},
          "execution_count": 9
        }
      ]
    },
    {
      "cell_type": "code",
      "source": [
        "\n",
        "def plot_mi_scores(scores):\n",
        "    scores = scores.sort_values(ascending=True)\n",
        "    width = np.arange(len(scores))\n",
        "    ticks = list(scores.index)\n",
        "    plt.barh(width, scores)\n",
        "    plt.yticks(width, ticks)\n",
        "    plt.title(\"Mutual Information Scores\")\n",
        "\n",
        "\n",
        "plt.figure(dpi=100, figsize=(8, 5))\n",
        "plot_mi_scores(mi_scores)"
      ],
      "metadata": {
        "colab": {
          "base_uri": "https://localhost:8080/",
          "height": 467
        },
        "id": "sF72ZiNnAnwZ",
        "outputId": "6790d940-2791-4aef-b633-234a3c22bbbc"
      },
      "execution_count": 10,
      "outputs": [
        {
          "output_type": "display_data",
          "data": {
            "text/plain": [
              "<Figure size 800x500 with 1 Axes>"
            ],
            "image/png": "[encoded data removed]"
          },
          "metadata": {}
        }
      ]
    },
    {
      "cell_type": "code",
      "source": [
        "\n",
        "#test train split\n",
        "\n",
        "from sklearn.model_selection import train_test_split\n",
        "\n",
        "# dataset split\n",
        "# creating a function for dataset split\n",
        "def dataset(X,y):\n",
        "    train_full_X, val_X, train_full_y, val_y = train_test_split(X, y,test_size=0.2,random_state = 0)\n",
        "\n",
        "# Use the same function above for the validation set\n",
        "    train_X, test_X, train_y, test_y = train_test_split(train_full_X, train_full_y, test_size=0.25,random_state = 0)\n",
        "    return (train_X, val_X, train_y, val_y)"
      ],
      "metadata": {
        "id": "mcZoZQHMAtiN"
      },
      "execution_count": 12,
      "outputs": []
    },
    {
      "cell_type": "code",
      "source": [
        "from sklearn.preprocessing import MinMaxScaler\n",
        "\n",
        "def scale(X):\n",
        "    scaler = MinMaxScaler()\n",
        "    scaler.fit(X)\n",
        "    return X\n"
      ],
      "metadata": {
        "id": "enNWnJ3jAy5s"
      },
      "execution_count": 13,
      "outputs": []
    },
    {
      "cell_type": "markdown",
      "source": [
        "Model 1 : Random forest classifier with top 6 features"
      ],
      "metadata": {
        "id": "tlZJK21uBILR"
      }
    },
    {
      "cell_type": "code",
      "source": [
        "from sklearn.metrics import roc_auc_score\n",
        "from sklearn.metrics import accuracy_score\n",
        "from sklearn.ensemble import RandomForestClassifier\n",
        "\n",
        "\n",
        "\n",
        "#assigning the features under a list\n",
        "\n",
        "features=['route','booking_origin','flight_duration','wants_extra_baggage', 'length_of_stay','num_passengers']\n",
        "X= df[features]\n",
        "#one hot encoding\n",
        "X = pd.get_dummies(X, columns=features)\n",
        "X= scale(X)\n",
        "y= df.booking_complete\n",
        "\n",
        "X_train,X_val,y_train,y_val= dataset(X,y)\n",
        "\n",
        "forest_model= RandomForestClassifier(random_state=1)\n",
        "forest_model.fit(X_train, y_train)\n",
        "preds= forest_model.predict(X_val)\n",
        "\n",
        "print('ACCURACY: ',accuracy_score(y_val,preds)*100)\n",
        "print('AUC score: ',roc_auc_score(y_val,preds))"
      ],
      "metadata": {
        "colab": {
          "base_uri": "https://localhost:8080/"
        },
        "id": "79stRwYfA23Z",
        "outputId": "5424d717-e918-421c-c4ee-51549bec7f0e"
      },
      "execution_count": 14,
      "outputs": [
        {
          "output_type": "stream",
          "name": "stdout",
          "text": [
            "ACCURACY:  83.36\n",
            "AUC score:  0.5657818407546988\n"
          ]
        }
      ]
    },
    {
      "cell_type": "markdown",
      "source": [
        "Model 2 : Random forest classifier with all features"
      ],
      "metadata": {
        "id": "OlcNscD3BNXy"
      }
    },
    {
      "cell_type": "code",
      "source": [
        "\n",
        "X= df.drop('booking_complete',axis=1)\n",
        "#one hot encoding\n",
        "X = pd.get_dummies(X)\n",
        "X= scale(X)\n",
        "y= df.booking_complete\n",
        "\n",
        "X_train,X_val,y_train,y_val= dataset(X,y)\n",
        "\n",
        "forest_model= RandomForestClassifier(random_state=1)\n",
        "forest_model.fit(X_train, y_train)\n",
        "preds= forest_model.predict(X_val)\n",
        "\n",
        "print('ACCURACY: ',accuracy_score(y_val,preds)*100)\n",
        "print('AUC score: ',roc_auc_score(y_val,preds))"
      ],
      "metadata": {
        "colab": {
          "base_uri": "https://localhost:8080/"
        },
        "id": "lX_Rz-XbBMli",
        "outputId": "9df1268b-996c-4527-9c5b-88aca44334ff"
      },
      "execution_count": 15,
      "outputs": [
        {
          "output_type": "stream",
          "name": "stdout",
          "text": [
            "ACCURACY:  84.76\n",
            "AUC score:  0.5479604084813514\n"
          ]
        }
      ]
    },
    {
      "cell_type": "markdown",
      "source": [
        "SVM"
      ],
      "metadata": {
        "id": "JTt52zNhBh4U"
      }
    },
    {
      "cell_type": "code",
      "source": [
        "import pandas as pd\n",
        "import numpy as np\n",
        "from sklearn.model_selection import train_test_split\n",
        "from sklearn.preprocessing import StandardScaler, LabelEncoder\n",
        "from sklearn.svm import SVC\n",
        "from sklearn.metrics import classification_report, accuracy_score\n",
        "\n",
        "# Load the dataset\n",
        "url = 'https://cdn.theforage.com/vinternships/companyassets/tMjbs76F526fF5v3G/L3MQ8f6cYSkfoukmz/1667814300249/customer_booking.csv'\n",
        "df = pd.read_csv(url, encoding='latin1')\n",
        "\n",
        "# Preprocess the data\n",
        "\n",
        "# Encode categorical variables\n",
        "label_encoders = {}\n",
        "for column in df.select_dtypes(include=['object']).columns:\n",
        "    label_encoders[column] = LabelEncoder()\n",
        "    df[column] = label_encoders[column].fit_transform(df[column])\n",
        "\n",
        "# Split the data into features and target\n",
        "X = df.drop('booking_complete', axis=1)\n",
        "y = df['booking_complete']\n",
        "\n",
        "# Split the data into training and testing sets\n",
        "X_train, X_test, y_train, y_test = train_test_split(X, y, test_size=0.2, random_state=42)\n",
        "\n",
        "# Standardize the feature values\n",
        "scaler = StandardScaler()\n",
        "X_train = scaler.fit_transform(X_train)\n",
        "X_test = scaler.transform(X_test)\n",
        "\n",
        "# Train the SVM model\n",
        "svm_model = SVC(kernel='linear', random_state=42)\n",
        "svm_model.fit(X_train, y_train)\n",
        "\n",
        "# Make predictions\n",
        "y_pred = svm_model.predict(X_test)\n",
        "\n",
        "# Evaluate the model\n",
        "accuracy = accuracy_score(y_test, y_pred)\n",
        "classification_report_output = classification_report(y_test, y_pred)\n",
        "\n",
        "print(f'Accuracy: {accuracy*100:.2f}')\n",
        "print('Classification Report:')\n",
        "print(classification_report_output)\n"
      ],
      "metadata": {
        "colab": {
          "base_uri": "https://localhost:8080/"
        },
        "id": "38Vafx5OBKoM",
        "outputId": "08ce8640-b03a-444c-e74a-3b9ed2cc02de"
      },
      "execution_count": 16,
      "outputs": [
        {
          "output_type": "stream",
          "name": "stdout",
          "text": [
            "Accuracy: 85.20\n",
            "Classification Report:\n",
            "              precision    recall  f1-score   support\n",
            "\n",
            "           0       0.85      1.00      0.92      8520\n",
            "           1       0.00      0.00      0.00      1480\n",
            "\n",
            "    accuracy                           0.85     10000\n",
            "   macro avg       0.43      0.50      0.46     10000\n",
            "weighted avg       0.73      0.85      0.78     10000\n",
            "\n"
          ]
        }
      ]
    },
    {
      "cell_type": "code",
      "source": [],
      "metadata": {
        "id": "zgDEeY-7Bi25"
      },
      "execution_count": null,
      "outputs": []
    },
    {
      "cell_type": "code",
      "source": [
        "import pandas as pd\n",
        "import numpy as np\n",
        "from sklearn.model_selection import train_test_split\n",
        "from sklearn.preprocessing import StandardScaler, LabelEncoder\n",
        "from sklearn.svm import SVC\n",
        "from sklearn.ensemble import RandomForestClassifier\n",
        "from sklearn.metrics import classification_report, accuracy_score\n",
        "\n",
        "# Load the dataset\n",
        "url = 'https://cdn.theforage.com/vinternships/companyassets/tMjbs76F526fF5v3G/L3MQ8f6cYSkfoukmz/1667814300249/customer_booking.csv'\n",
        "df = pd.read_csv(url, encoding='latin1')\n",
        "\n",
        "# Preprocess the data\n",
        "\n",
        "# Encode categorical variables\n",
        "label_encoders = {}\n",
        "for column in df.select_dtypes(include=['object']).columns:\n",
        "    label_encoders[column] = LabelEncoder()\n",
        "    df[column] = label_encoders[column].fit_transform(df[column])\n",
        "\n",
        "# Split the data into features and target\n",
        "X = df.drop('booking_complete', axis=1)\n",
        "y = df['booking_complete']\n",
        "\n",
        "# Split the data into training and testing sets\n",
        "X_train, X_test, y_train, y_test = train_test_split(X, y, test_size=0.2, random_state=42)\n",
        "\n",
        "# Standardize the feature values for SVM\n",
        "scaler = StandardScaler()\n",
        "X_train_scaled = scaler.fit_transform(X_train)\n",
        "X_test_scaled = scaler.transform(X_test)\n",
        "\n",
        "# Train the SVM model\n",
        "svm_model = SVC(kernel='linear', random_state=42)\n",
        "svm_model.fit(X_train_scaled, y_train)\n",
        "\n",
        "# Make predictions with SVM\n",
        "y_pred_svm = svm_model.predict(X_test_scaled)\n",
        "\n",
        "# Train the Random Forest model\n",
        "rf_model = RandomForestClassifier(random_state=42)\n",
        "rf_model.fit(X_train, y_train)\n",
        "\n",
        "# Make predictions with Random Forest\n",
        "y_pred_rf = rf_model.predict(X_test)\n",
        "\n",
        "# Evaluate the SVM model\n",
        "accuracy_svm = accuracy_score(y_test, y_pred_svm)\n",
        "classification_report_svm = classification_report(y_test, y_pred_svm)\n",
        "\n",
        "print('SVM Model')\n",
        "print(f'Accuracy: {accuracy_svm:.2f}')\n",
        "print('Classification Report:')\n",
        "print(classification_report_svm)\n",
        "\n",
        "# Evaluate the Random Forest model\n",
        "accuracy_rf = accuracy_score(y_test, y_pred_rf)\n",
        "classification_report_rf = classification_report(y_test, y_pred_rf)\n",
        "\n",
        "print('Random Forest Model')\n",
        "print(f'Accuracy: {accuracy_rf:.2f}')\n",
        "print('Classification Report:')\n",
        "print(classification_report_rf)\n"
      ],
      "metadata": {
        "colab": {
          "base_uri": "https://localhost:8080/"
        },
        "id": "9hZKStBPB40d",
        "outputId": "8fbfff8f-d3cb-4fec-fd9a-4d75f77b48c5"
      },
      "execution_count": 17,
      "outputs": [
        {
          "output_type": "stream",
          "name": "stdout",
          "text": [
            "SVM Model\n",
            "Accuracy: 0.85\n",
            "Classification Report:\n",
            "              precision    recall  f1-score   support\n",
            "\n",
            "           0       0.85      1.00      0.92      8520\n",
            "           1       0.00      0.00      0.00      1480\n",
            "\n",
            "    accuracy                           0.85     10000\n",
            "   macro avg       0.43      0.50      0.46     10000\n",
            "weighted avg       0.73      0.85      0.78     10000\n",
            "\n",
            "Random Forest Model\n",
            "Accuracy: 0.86\n",
            "Classification Report:\n",
            "              precision    recall  f1-score   support\n",
            "\n",
            "           0       0.86      0.99      0.92      8520\n",
            "           1       0.57      0.11      0.19      1480\n",
            "\n",
            "    accuracy                           0.86     10000\n",
            "   macro avg       0.72      0.55      0.55     10000\n",
            "weighted avg       0.82      0.86      0.81     10000\n",
            "\n"
          ]
        }
      ]
    },
    {
      "cell_type": "code",
      "source": [],
      "metadata": {
        "id": "KyDvYT7BKZa8"
      },
      "execution_count": null,
      "outputs": []
    }
  ]
}